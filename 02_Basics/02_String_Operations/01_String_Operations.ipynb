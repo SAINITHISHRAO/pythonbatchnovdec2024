{
 "cells": [
  {
   "cell_type": "raw",
   "metadata": {
    "vscode": {
     "languageId": "raw"
    }
   },
   "source": [
    "String Operations\n",
    "Strings can be represented using\n",
    "    1) single quotes,\n",
    "    2) double quotes, or\n",
    "    3) triple single quotes or\n",
    "    4) triple double quotes"
   ]
  },
  {
   "cell_type": "code",
   "execution_count": 4,
   "metadata": {},
   "outputs": [
    {
     "name": "stdout",
     "output_type": "stream",
     "text": [
      "Python Programming <class 'str'>\n"
     ]
    }
   ],
   "source": [
    "language = 'Python Programming'\n",
    "print(language, type(language))"
   ]
  },
  {
   "cell_type": "code",
   "execution_count": 5,
   "metadata": {},
   "outputs": [
    {
     "name": "stdout",
     "output_type": "stream",
     "text": [
      "what's up ! <class 'str'>\n"
     ]
    }
   ],
   "source": [
    "where_abouts = 'what\\'s up !'\n",
    "print(where_abouts, type(where_abouts))"
   ]
  },
  {
   "cell_type": "raw",
   "metadata": {
    "vscode": {
     "languageId": "raw"
    }
   },
   "source": [
    "NOTE 1: Placing \\ before any operator with result\n",
    "# in treating operator as a ordinary character"
   ]
  },
  {
   "cell_type": "code",
   "execution_count": 6,
   "metadata": {},
   "outputs": [
    {
     "name": "stdout",
     "output_type": "stream",
     "text": [
      "Today is an awesome dayto learn python\n"
     ]
    }
   ],
   "source": [
    "# Multi-line Strings\n",
    "print(\n",
    "    'Today is an awesome day\\\n",
    "to learn python'\n",
    ")\n",
    "\n",
    "# \\ line continuation operator"
   ]
  },
  {
   "cell_type": "code",
   "execution_count": 7,
   "metadata": {},
   "outputs": [
    {
     "name": "stdout",
     "output_type": "stream",
     "text": [
      "Today is an awesome day to learn python\n"
     ]
    }
   ],
   "source": [
    "print(\n",
    "    \"\"\"Today is an awesome day\\\n",
    " to learn python\"\"\"\n",
    ")"
   ]
  },
  {
   "cell_type": "code",
   "execution_count": 8,
   "metadata": {},
   "outputs": [
    {
     "name": "stdout",
     "output_type": "stream",
     "text": [
      "  select * from my_table where column='python' and column2 = \"django\";\n"
     ]
    }
   ],
   "source": [
    "my_string = \"\"\"  select * from my_table where column='python' and column2 = \"django\";\"\"\"\n",
    "print(my_string)"
   ]
  },
  {
   "cell_type": "markdown",
   "metadata": {
    "vscode": {
     "languageId": "raw"
    }
   },
   "source": [
    "### String Indexing"
   ]
  },
  {
   "cell_type": "code",
   "execution_count": 9,
   "metadata": {},
   "outputs": [
    {
     "name": "stdout",
     "output_type": "stream",
     "text": [
      "Python Programming <class 'str'>\n"
     ]
    }
   ],
   "source": [
    "language = 'Python Programming'\n",
    "print(language, type(language))"
   ]
  },
  {
   "cell_type": "code",
   "execution_count": 10,
   "metadata": {},
   "outputs": [
    {
     "name": "stdout",
     "output_type": "stream",
     "text": [
      "len(language)= 18\n"
     ]
    }
   ],
   "source": [
    "# len() - to get no. of characters in string\n",
    "print(\"len(language)=\", len(language))"
   ]
  },
  {
   "cell_type": "raw",
   "metadata": {
    "vscode": {
     "languageId": "raw"
    }
   },
   "source": [
    "# P   y  t  h  o n   P r  o g  r  a  m  m  i  n  g\n",
    "# 0   1  2  3  4 5 6 7 8  9 10 11 12 13 14 15 16 17    - forward indexing\n",
    "# -18                    -9 -8 -7 -6 -5 -4 -3 -2 -1    - reverse indexing\n",
    "\n",
    "# NOTE: indexing starts with 0"
   ]
  },
  {
   "cell_type": "code",
   "execution_count": 11,
   "metadata": {},
   "outputs": [
    {
     "name": "stdout",
     "output_type": "stream",
     "text": [
      "language    : Python Programming\n",
      "language[14]: m\n",
      "language[6] :  \n",
      "language[17]: g\n"
     ]
    }
   ],
   "source": [
    "print(\"language    :\", language)\n",
    "print(\"language[14]:\", language[14])\n",
    "print(\"language[6] :\", language[6])\n",
    "print(\"language[17]:\", language[17])"
   ]
  },
  {
   "cell_type": "code",
   "execution_count": 12,
   "metadata": {},
   "outputs": [
    {
     "name": "stdout",
     "output_type": "stream",
     "text": [
      "language[-3]  : i\n",
      "len(language) : 18\n",
      "language[len(language)-3]  : i\n"
     ]
    }
   ],
   "source": [
    "print(\"language[-3]  :\", language[-3])\n",
    "print(\"len(language) :\", len(language))\n",
    "print(\"language[len(language)-3]  :\", language[len(language) - 3])"
   ]
  },
  {
   "cell_type": "markdown",
   "metadata": {},
   "source": [
    "### String slicing operations"
   ]
  },
  {
   "cell_type": "code",
   "execution_count": 13,
   "metadata": {},
   "outputs": [
    {
     "name": "stdout",
     "output_type": "stream",
     "text": [
      "language[0]    : P\n"
     ]
    }
   ],
   "source": [
    "print(\"language[0]    :\", language[0])"
   ]
  },
  {
   "cell_type": "code",
   "execution_count": 14,
   "metadata": {},
   "outputs": [
    {
     "name": "stdout",
     "output_type": "stream",
     "text": [
      "String Slicing\n",
      "language[0:11] : Python Prog\n"
     ]
    }
   ],
   "source": [
    "# Slicing\n",
    "print(\"String Slicing\")  # [start_index: final_index]\n",
    "print(\"language[0:11] :\", language[0:11])  # Python Prog"
   ]
  },
  {
   "cell_type": "code",
   "execution_count": 15,
   "metadata": {},
   "outputs": [
    {
     "name": "stdout",
     "output_type": "stream",
     "text": [
      "language[5:17] : n Programmin\n"
     ]
    }
   ],
   "source": [
    "print(\"language[5:17] :\", language[5:17])  # n Programmin"
   ]
  },
  {
   "cell_type": "code",
   "execution_count": 16,
   "metadata": {},
   "outputs": [
    {
     "name": "stdout",
     "output_type": "stream",
     "text": [
      "Pytho\n",
      "Python\n"
     ]
    }
   ],
   "source": [
    "print( language[0:5])  \n",
    "print(language[0:6]) "
   ]
  },
  {
   "cell_type": "code",
   "execution_count": 17,
   "metadata": {},
   "outputs": [
    {
     "name": "stdout",
     "output_type": "stream",
     "text": [
      "Programming\n",
      "Programming\n",
      "\n"
     ]
    }
   ],
   "source": [
    "print(language[7:18])   # Programming\n",
    "print(language[7:999]) # 999 index isn't present\n",
    "print(language[45:87])  # indexes are not present"
   ]
  },
  {
   "cell_type": "code",
   "execution_count": 18,
   "metadata": {},
   "outputs": [
    {
     "name": "stdout",
     "output_type": "stream",
     "text": [
      "language[7:18:3] = Pgmn\n"
     ]
    }
   ],
   "source": [
    "print(\"language[7:18:3] =\", language[7:18:3])\n",
    "# [7:18:3] => 7, 10, 13, 16"
   ]
  },
  {
   "cell_type": "code",
   "execution_count": 19,
   "metadata": {},
   "outputs": [
    {
     "name": "stdout",
     "output_type": "stream",
     "text": [
      "language[7:18:-1]= \n"
     ]
    }
   ],
   "source": [
    "print(\"language[7:18:-1]=\", language[7:18:-1])\n",
    "# 7-1 = 6 ; it is not between 7 and 18\n",
    "# [7:18:-1]  =>"
   ]
  },
  {
   "cell_type": "code",
   "execution_count": 20,
   "metadata": {},
   "outputs": [],
   "source": [
    "name = \"Varun Dhawan\"\n",
    "\n",
    "#   V  a    r    u   n     D  h  a  w  a  n\n",
    "#   0  1    2    3   4  5  6  7  8  9  10 11 - forward indexing\n",
    "# -12  -11 -10  -9  -8 -7 -6 -5 -4 -3 -2 -1  - reverse indexing"
   ]
  },
  {
   "cell_type": "code",
   "execution_count": 21,
   "metadata": {},
   "outputs": [
    {
     "name": "stdout",
     "output_type": "stream",
     "text": [
      "name             : Varun Dhawan\n"
     ]
    }
   ],
   "source": [
    "print(\"name             :\", name)"
   ]
  },
  {
   "cell_type": "code",
   "execution_count": 22,
   "metadata": {},
   "outputs": [
    {
     "name": "stdout",
     "output_type": "stream",
     "text": [
      "name[:]          : Varun Dhawan\n",
      "name[::]         : Varun Dhawan\n",
      "name[::1]        : Varun Dhawan\n",
      "name[::-1]       : nawahD nuraV\n"
     ]
    }
   ],
   "source": [
    "print(\"name[:]          :\", name[:])\n",
    "print(\"name[::]         :\", name[::])\n",
    "print(\"name[::1]        :\", name[::1])\n",
    "print(\"name[::-1]       :\", name[::-1])  # string reversal"
   ]
  },
  {
   "cell_type": "markdown",
   "metadata": {},
   "source": [
    "### Assignment : Do perform inplace word reversal , for a given string"
   ]
  },
  {
   "cell_type": "code",
   "execution_count": 24,
   "metadata": {},
   "outputs": [
    {
     "name": "stdout",
     "output_type": "stream",
     "text": [
      "Original string  : Actor Varun Dhawan\n",
      "Word-reversed    : Dhawan Varun Actor\n"
     ]
    }
   ],
   "source": [
    "name = \"Actor Varun Dhawan\"\n",
    "\n",
    "reverse = \" \".join(name.split()[::-1])\n",
    "\n",
    "print(\"Original string  :\", name)\n",
    "print(\"Word-reversed    :\", reverse)"
   ]
  },
  {
   "cell_type": "code",
   "execution_count": 25,
   "metadata": {},
   "outputs": [
    {
     "name": "stdout",
     "output_type": "stream",
     "text": [
      "Original sentence : today is good day\n",
      "Reversed words     : yadot si doog yad\n"
     ]
    }
   ],
   "source": [
    "sentence = \"today is good day\"\n",
    "\n",
    "reverse = \" \".join(word[::-1] for word in sentence.split())\n",
    "\n",
    "print(\"Original sentence :\", sentence)\n",
    "print(\"Reversed words     :\", reverse)"
   ]
  }
 ],
 "metadata": {
  "kernelspec": {
   "display_name": "Python 3",
   "language": "python",
   "name": "python3"
  },
  "language_info": {
   "codemirror_mode": {
    "name": "ipython",
    "version": 3
   },
   "file_extension": ".py",
   "mimetype": "text/x-python",
   "name": "python",
   "nbconvert_exporter": "python",
   "pygments_lexer": "ipython3",
   "version": "3.12.1"
  }
 },
 "nbformat": 4,
 "nbformat_minor": 2
}
