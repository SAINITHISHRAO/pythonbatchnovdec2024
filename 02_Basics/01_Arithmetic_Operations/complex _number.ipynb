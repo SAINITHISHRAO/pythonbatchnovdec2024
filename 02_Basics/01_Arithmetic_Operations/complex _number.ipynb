{
 "cells": [
  {
   "cell_type": "markdown",
   "metadata": {
    "vscode": {
     "languageId": "plaintext"
    }
   },
   "source": [
    "complex numbers"
   ]
  },
  {
   "cell_type": "markdown",
   "metadata": {},
   "source": [
    "Complex Number = Real Number +/- Imaginary Number\n",
    "\n",
    "In python, 'j' is used to represent the imaginary number."
   ]
  },
  {
   "cell_type": "code",
   "execution_count": 1,
   "metadata": {},
   "outputs": [
    {
     "name": "stdout",
     "output_type": "stream",
     "text": [
      "num1= 5 <class 'int'>\n"
     ]
    }
   ],
   "source": [
    "num1 = 2 + 3\n",
    "print(\"num1=\", num1, type(num1))"
   ]
  },
  {
   "cell_type": "code",
   "execution_count": 2,
   "metadata": {},
   "outputs": [
    {
     "name": "stdout",
     "output_type": "stream",
     "text": [
      "num1= (2+3j) <class 'complex'>\n"
     ]
    }
   ],
   "source": [
    "num1 = 2 + 3j\n",
    "print(\"num1=\", num1, type(num1))"
   ]
  },
  {
   "cell_type": "code",
   "execution_count": 3,
   "metadata": {},
   "outputs": [
    {
     "name": "stdout",
     "output_type": "stream",
     "text": [
      "complex(2,-3.456) (2-3.456j)\n",
      "complex(2,0)      (2+0j)\n"
     ]
    }
   ],
   "source": [
    "# complex()  - Builtin function\n",
    "print(\"complex(2,-3.456)\", complex(2, -3.456))\n",
    "print(\"complex(2,0)     \", complex(2, 0))"
   ]
  },
  {
   "cell_type": "code",
   "execution_count": 4,
   "metadata": {},
   "outputs": [
    {
     "name": "stdout",
     "output_type": "stream",
     "text": [
      "4 == 4  : True\n",
      "4 == 4.3: False\n",
      "4 == 4j : False\n"
     ]
    }
   ],
   "source": [
    "# == checks value equivalence\n",
    "print(\"4 == 4  :\", 4 == 4)      # True\n",
    "print(\"4 == 4.3:\", 4 == 4.3)    # False\n",
    "print(\"4 == 4j :\", 4 == 4j)     # False"
   ]
  },
  {
   "cell_type": "code",
   "execution_count": 5,
   "metadata": {},
   "outputs": [
    {
     "data": {
      "text/plain": [
       "True"
      ]
     },
     "execution_count": 5,
     "metadata": {},
     "output_type": "execute_result"
    }
   ],
   "source": [
    "(3 + 4j) == (4j + 3)"
   ]
  },
  {
   "cell_type": "code",
   "execution_count": 7,
   "metadata": {},
   "outputs": [
    {
     "data": {
      "text/plain": [
       "False"
      ]
     },
     "execution_count": 7,
     "metadata": {},
     "output_type": "execute_result"
    }
   ],
   "source": [
    "(3 + 4j) == (3j + 4)"
   ]
  }
 ],
 "metadata": {
  "kernelspec": {
   "display_name": "Python 3",
   "language": "python",
   "name": "python3"
  },
  "language_info": {
   "codemirror_mode": {
    "name": "ipython",
    "version": 3
   },
   "file_extension": ".py",
   "mimetype": "text/x-python",
   "name": "python",
   "nbconvert_exporter": "python",
   "pygments_lexer": "ipython3",
   "version": "3.12.1"
  }
 },
 "nbformat": 4,
 "nbformat_minor": 2
}
