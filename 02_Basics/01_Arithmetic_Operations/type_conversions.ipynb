{
 "cells": [
  {
   "cell_type": "markdown",
   "metadata": {},
   "source": [
    "- int, float, complex, boolean, string, None\n",
    "\n",
    "integer family\n",
    "\n",
    "    int - decimal       - int() -base 10   (0-9)\n",
    "        - binary        - bin() -base  2   (0-1)\n",
    "        - hexadecimal   - hex() -base  16  (0-9 A-F)\n",
    "        - octal         - oct() -base  8   (0-7)\n",
    "    float\n",
    "        float()\n",
    "    String\n",
    "        str()"
   ]
  },
  {
   "cell_type": "code",
   "execution_count": 1,
   "metadata": {},
   "outputs": [
    {
     "name": "stdout",
     "output_type": "stream",
     "text": [
      "num= 12 <class 'int'>\n"
     ]
    }
   ],
   "source": [
    "num = 12\n",
    "print(\"num=\", num, type(num))"
   ]
  },
  {
   "cell_type": "code",
   "execution_count": 2,
   "metadata": {},
   "outputs": [
    {
     "name": "stdout",
     "output_type": "stream",
     "text": [
      "12 12.0\n"
     ]
    }
   ],
   "source": [
    "# int -> float\n",
    "print(12, float(12)) "
   ]
  },
  {
   "cell_type": "code",
   "execution_count": 3,
   "metadata": {},
   "outputs": [
    {
     "data": {
      "text/plain": [
       "(12, '12')"
      ]
     },
     "execution_count": 3,
     "metadata": {},
     "output_type": "execute_result"
    }
   ],
   "source": [
    "# int - > str \n",
    "12, str(12)"
   ]
  },
  {
   "cell_type": "code",
   "execution_count": 4,
   "metadata": {},
   "outputs": [
    {
     "name": "stdout",
     "output_type": "stream",
     "text": [
      "3.1416 3\n",
      "3.1416 3.1416\n"
     ]
    }
   ],
   "source": [
    "# float -> int\n",
    "print(3.1416, int(3.1416))  # 3.1416,  3\n",
    "print(3.1416, str(3.1416))  # 3.1416, '3.1416'"
   ]
  },
  {
   "cell_type": "code",
   "execution_count": 5,
   "metadata": {},
   "outputs": [
    {
     "name": "stdout",
     "output_type": "stream",
     "text": [
      "num1 = 33 <class 'int'>\n"
     ]
    }
   ],
   "source": [
    "num1 = 33\n",
    "print(\"num1 =\", num1, type(num1))  "
   ]
  },
  {
   "cell_type": "code",
   "execution_count": 6,
   "metadata": {},
   "outputs": [
    {
     "data": {
      "text/plain": [
       "'0b100001'"
      ]
     },
     "execution_count": 6,
     "metadata": {},
     "output_type": "execute_result"
    }
   ],
   "source": [
    "bin(num1)"
   ]
  },
  {
   "cell_type": "code",
   "execution_count": 7,
   "metadata": {},
   "outputs": [
    {
     "name": "stdout",
     "output_type": "stream",
     "text": [
      "oct(9)   0o11\n",
      "oct(-23) -0o27\n"
     ]
    }
   ],
   "source": [
    "# Octal -> 0-7\n",
    "# decimal -> octal\n",
    "print(\"oct(9)  \", oct(9))    # '0o11'\n",
    "print(\"oct(-23)\", oct(-23))  # '-0o27'"
   ]
  },
  {
   "cell_type": "code",
   "execution_count": 8,
   "metadata": {},
   "outputs": [
    {
     "name": "stdout",
     "output_type": "stream",
     "text": [
      "9\n",
      "9\n",
      "9\n",
      "11\n"
     ]
    }
   ],
   "source": [
    "# octal -> decimal\n",
    "print(int(oct(9), base=8))  # 9\n",
    "print(int(\"0o11\", base=8))  # 9\n",
    "print(int(\"11\", base=8))  # 9\n",
    "print(int(\"11\"))  # 11"
   ]
  },
  {
   "cell_type": "code",
   "execution_count": 9,
   "metadata": {},
   "outputs": [
    {
     "name": "stdout",
     "output_type": "stream",
     "text": [
      "hex(9)   0x9\n",
      "hex(-23) -0x17\n"
     ]
    }
   ],
   "source": [
    "# Hexadecimal - 0-9 A-F\n",
    "# decimal -> hexadecimal\n",
    "print(\"hex(9)  \", hex(9))  # '0x9'\n",
    "print(\"hex(-23)\", hex(-23))  # '-0x17'"
   ]
  },
  {
   "cell_type": "code",
   "execution_count": 10,
   "metadata": {},
   "outputs": [
    {
     "name": "stdout",
     "output_type": "stream",
     "text": [
      "-23\n",
      "-23\n",
      "-23\n",
      "-17\n"
     ]
    }
   ],
   "source": [
    "# hexadecimal -> decimal\n",
    "print(int(hex(-23), base=16))  # -23\n",
    "print(int(\"-0x17\", base=16))  # -23\n",
    "print(int(\"-17\", base=16))  # -23\n",
    "print(int(\"-17\"))  # -17"
   ]
  }
 ],
 "metadata": {
  "kernelspec": {
   "display_name": "Python 3",
   "language": "python",
   "name": "python3"
  },
  "language_info": {
   "codemirror_mode": {
    "name": "ipython",
    "version": 3
   },
   "file_extension": ".py",
   "mimetype": "text/x-python",
   "name": "python",
   "nbconvert_exporter": "python",
   "pygments_lexer": "ipython3",
   "version": "3.12.1"
  }
 },
 "nbformat": 4,
 "nbformat_minor": 2
}
