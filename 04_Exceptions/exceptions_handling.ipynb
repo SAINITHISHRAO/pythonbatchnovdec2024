{
 "cells": [
  {
   "cell_type": "raw",
   "metadata": {
    "vscode": {
     "languageId": "raw"
    }
   },
   "source": [
    "Exception Handling\n",
    "Exception Handling in Python is a mechanism to handle runtime errors gracefully and ensure the program does not crash unexpectedly. \n",
    "It uses try-except blocks to catch and manage exceptions."
   ]
  },
  {
   "cell_type": "raw",
   "metadata": {
    "vscode": {
     "languageId": "raw"
    }
   },
   "source": [
    "Key Concepts:\n",
    "try:        The block where you write risky code that might raise an exception.\n",
    "except:     The block that handles the exception.\n",
    "else:       Optional block that runs if no exception is raised.\n",
    "finally:    Optional block that always runs, used for cleanup (e.g., closing files).\n",
    "\n",
    "Exception Handling\n",
    "FOUR blocks - try, except , else, finally\n",
    "                mandatory      optional"
   ]
  },
  {
   "cell_type": "code",
   "execution_count": 5,
   "metadata": {},
   "outputs": [
    {
     "name": "stdout",
     "output_type": "stream",
     "text": [
      "6\n"
     ]
    }
   ],
   "source": [
    "try:\n",
    "    num3 = int(input('Enter number:'))\n",
    "    print(num3)\n",
    "except:\n",
    "    pass"
   ]
  },
  {
   "cell_type": "code",
   "execution_count": 6,
   "metadata": {},
   "outputs": [
    {
     "name": "stdout",
     "output_type": "stream",
     "text": [
      "got error\n"
     ]
    }
   ],
   "source": [
    "try:\n",
    "    num3 = int(input('Enter number:'))\n",
    "    print(num3)\n",
    "except:\n",
    "    print('got error')"
   ]
  },
  {
   "cell_type": "code",
   "execution_count": 7,
   "metadata": {},
   "outputs": [
    {
     "name": "stdout",
     "output_type": "stream",
     "text": [
      "Result: 0.45454545454545453\n",
      "Operation successful!\n",
      "Thank you for using our calculator.\n"
     ]
    }
   ],
   "source": [
    "try:\n",
    "    num = int(input(\"Enter a number: \"))  # Risk of ValueError\n",
    "    result = 10 / num  # Risk of ZeroDivisionError\n",
    "    print(f\"Result: {result}\")\n",
    "except ValueError:\n",
    "    print(\"Error: Please enter a valid integer.\")\n",
    "except ZeroDivisionError:\n",
    "    print(\"Error: Division by zero is not allowed.\")\n",
    "else:\n",
    "    print(\"Operation successful!\")\n",
    "finally:\n",
    "    print(\"Thank you for using our calculator.\")"
   ]
  },
  {
   "cell_type": "code",
   "execution_count": 8,
   "metadata": {},
   "outputs": [
    {
     "name": "stdout",
     "output_type": "stream",
     "text": [
      "Error: Cannot divide by zero! (division by zero)\n"
     ]
    }
   ],
   "source": [
    "#basic exception handling\n",
    "try:\n",
    "    result = 10 / 0  # Risky code that causes a ZeroDivisionError\n",
    "except ZeroDivisionError as e:\n",
    "    print(f\"Error: Cannot divide by zero! ({e})\")"
   ]
  },
  {
   "cell_type": "code",
   "execution_count": 10,
   "metadata": {},
   "outputs": [
    {
     "name": "stdout",
     "output_type": "stream",
     "text": [
      "Error: Invalid input. Please enter a number.\n"
     ]
    }
   ],
   "source": [
    "# handling multiple exceptions\n",
    "try:\n",
    "    num = int(input(\"Enter a number: \"))\n",
    "    print(10 / num)\n",
    "except ValueError:\n",
    "    print(\"Error: Invalid input. Please enter a number.\")\n",
    "except ZeroDivisionError:\n",
    "    print(\"Error: Cannot divide by zero.\")"
   ]
  },
  {
   "cell_type": "code",
   "execution_count": 12,
   "metadata": {},
   "outputs": [
    {
     "name": "stdout",
     "output_type": "stream",
     "text": [
      "An error occurred: invalid literal for int() with base 10: 'gd'\n",
      "This block always executes.\n"
     ]
    }
   ],
   "source": [
    "# use else and finally\n",
    "try:\n",
    "    num = int(input(\"Enter a number: \"))\n",
    "    print(10 / num)\n",
    "except Exception as e:\n",
    "    print(f\"An error occurred: {e}\")\n",
    "else:\n",
    "    print(\"Success! No errors occurred.\")\n",
    "finally:\n",
    "    print(\"This block always executes.\")"
   ]
  },
  {
   "cell_type": "code",
   "execution_count": 21,
   "metadata": {},
   "outputs": [
    {
     "name": "stdout",
     "output_type": "stream",
     "text": [
      "555\n"
     ]
    }
   ],
   "source": [
    "try:\n",
    "    num = int(input('number='))\n",
    "    print(num)\n",
    "except:\n",
    "    print(\"error\")   "
   ]
  },
  {
   "cell_type": "code",
   "execution_count": 28,
   "metadata": {},
   "outputs": [
    {
     "name": "stdout",
     "output_type": "stream",
     "text": [
      "In try block\n",
      "In Exception block: ex1 =ValueError(\"invalid literal for int() with base 10: 'gdn'\")\n",
      "In finally block\n",
      "next statement\n"
     ]
    }
   ],
   "source": [
    "try:\n",
    "    print(\"In try block\")\n",
    "    10 / int(input(\"Enter a number:\"))\n",
    "except Exception as ex1:\n",
    "    print(f\"In Exception block: {ex1 =}\")\n",
    "else:\n",
    "    print(\"In Else block\")\n",
    "finally:\n",
    "    print(\"In finally block\")\n",
    "\n",
    "print(\"next statement\")"
   ]
  },
  {
   "cell_type": "raw",
   "metadata": {
    "vscode": {
     "languageId": "raw"
    }
   },
   "source": [
    "Exception groups in Python allow multiple exceptions to be raised or handled together. \n",
    "They were introduced in Python 3.11 to simplify scenarios where multiple exceptions may occur simultaneously, \n",
    "such as in concurrent programming or error aggregation."
   ]
  },
  {
   "cell_type": "code",
   "execution_count": 1,
   "metadata": {},
   "outputs": [
    {
     "name": "stdout",
     "output_type": "stream",
     "text": [
      "Caught ValueError(s): Some errors (1 sub-exception)\n",
      "Caught ZeroDivisionError(s): Some errors (1 sub-exception)\n"
     ]
    }
   ],
   "source": [
    "try:\n",
    "    raise ExceptionGroup(\"Some errors\", [ValueError(\"Invalid value\"), ZeroDivisionError(\"Division by zero\")])\n",
    "except* ValueError as ve:\n",
    "    print(\"Caught ValueError(s):\", ve)\n",
    "except* ZeroDivisionError as zde:\n",
    "    print(\"Caught ZeroDivisionError(s):\", zde)"
   ]
  },
  {
   "cell_type": "code",
   "execution_count": null,
   "metadata": {},
   "outputs": [],
   "source": []
  }
 ],
 "metadata": {
  "kernelspec": {
   "display_name": "Python 3",
   "language": "python",
   "name": "python3"
  },
  "language_info": {
   "codemirror_mode": {
    "name": "ipython",
    "version": 3
   },
   "file_extension": ".py",
   "mimetype": "text/x-python",
   "name": "python",
   "nbconvert_exporter": "python",
   "pygments_lexer": "ipython3",
   "version": "3.12.1"
  }
 },
 "nbformat": 4,
 "nbformat_minor": 2
}
