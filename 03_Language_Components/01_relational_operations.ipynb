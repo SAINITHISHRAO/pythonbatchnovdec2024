{
 "cells": [
  {
   "cell_type": "markdown",
   "metadata": {},
   "source": [
    " These operations will result in a boolean value (True or False)\n",
    "\n",
    "     <  lesser\n",
    "     >  greater\n",
    "     == equal to\n",
    "     <= less than or equal to\n",
    "     >= greater than or equal to\n",
    "     != not equal to"
   ]
  },
  {
   "cell_type": "code",
   "execution_count": 6,
   "metadata": {},
   "outputs": [
    {
     "name": "stdout",
     "output_type": "stream",
     "text": [
      "us_dollar        =  100\n"
     ]
    }
   ],
   "source": [
    "us_dollar=100\n",
    "print(\"us_dollar        = \", us_dollar)"
   ]
  },
  {
   "cell_type": "code",
   "execution_count": 9,
   "metadata": {},
   "outputs": [
    {
     "name": "stdout",
     "output_type": "stream",
     "text": [
      "canadian_dollar  =  50\n"
     ]
    }
   ],
   "source": [
    "canadian_dollar = 50\n",
    "print(\"canadian_dollar  = \", canadian_dollar)"
   ]
  },
  {
   "cell_type": "code",
   "execution_count": 10,
   "metadata": {},
   "outputs": [
    {
     "name": "stdout",
     "output_type": "stream",
     "text": [
      "us_dollar       = 100\n",
      "canadian_dollar = 50\n",
      "\n"
     ]
    }
   ],
   "source": [
    "print(f\"us_dollar       = {us_dollar}\")\n",
    "print(f\"canadian_dollar = {canadian_dollar}\")\n",
    "print()"
   ]
  },
  {
   "cell_type": "code",
   "execution_count": 11,
   "metadata": {},
   "outputs": [
    {
     "name": "stdout",
     "output_type": "stream",
     "text": [
      "us_dollar      =100\n",
      "canadian_dollar=50\n"
     ]
    }
   ],
   "source": [
    "print(f\"{us_dollar      =}\")\n",
    "print(f\"{canadian_dollar=}\")"
   ]
  },
  {
   "cell_type": "code",
   "execution_count": 12,
   "metadata": {},
   "outputs": [
    {
     "name": "stdout",
     "output_type": "stream",
     "text": [
      "74 == 50 =False\n"
     ]
    }
   ],
   "source": [
    "print(f\"{74 == 50 =}\")"
   ]
  },
  {
   "cell_type": "code",
   "execution_count": 13,
   "metadata": {},
   "outputs": [
    {
     "name": "stdout",
     "output_type": "stream",
     "text": [
      "us_dollar > canadian_dollar  = True\n"
     ]
    }
   ],
   "source": [
    "print(f\"{us_dollar > canadian_dollar  = }\")"
   ]
  },
  {
   "cell_type": "code",
   "execution_count": 14,
   "metadata": {},
   "outputs": [
    {
     "name": "stdout",
     "output_type": "stream",
     "text": [
      "str1 == str2 =True\n",
      "str1 >  str2 =False\n",
      "str1 >= str2 =True\n"
     ]
    }
   ],
   "source": [
    "str1 = \"abc\"\n",
    "str2 = \"abc\"\n",
    "print(f\"{str1 == str2 =}\")\n",
    "print(f\"{str1 >  str2 =}\")\n",
    "print(f\"{str1 >= str2 =}\")"
   ]
  },
  {
   "cell_type": "code",
   "execution_count": 17,
   "metadata": {},
   "outputs": [
    {
     "name": "stdout",
     "output_type": "stream",
     "text": [
      "str1 == str2 =False\n",
      "str1 >  str2 =False\n",
      "str1 <  str2 =True\n"
     ]
    }
   ],
   "source": [
    "str1 = \"abc\"\n",
    "str2 = \"bc\"\n",
    "print(f\"{str1 == str2 =}\")\n",
    "print(f\"{str1 >  str2 =}\")\n",
    "print(f\"{str1 <  str2 =}\")\n"
   ]
  },
  {
   "cell_type": "code",
   "execution_count": 19,
   "metadata": {},
   "outputs": [
    {
     "name": "stdout",
     "output_type": "stream",
     "text": [
      "False\n"
     ]
    }
   ],
   "source": [
    "print(str1 >  str2)"
   ]
  },
  {
   "cell_type": "code",
   "execution_count": null,
   "metadata": {},
   "outputs": [],
   "source": []
  }
 ],
 "metadata": {
  "kernelspec": {
   "display_name": "Python 3",
   "language": "python",
   "name": "python3"
  },
  "language_info": {
   "codemirror_mode": {
    "name": "ipython",
    "version": 3
   },
   "file_extension": ".py",
   "mimetype": "text/x-python",
   "name": "python",
   "nbconvert_exporter": "python",
   "pygments_lexer": "ipython3",
   "version": "3.12.1"
  }
 },
 "nbformat": 4,
 "nbformat_minor": 2
}
