{
 "cells": [
  {
   "cell_type": "raw",
   "metadata": {
    "vscode": {
     "languageId": "raw"
    }
   },
   "source": [
    "while loop\n",
    "SYNTAX:\n",
    "    initialization\n",
    "    while loop_condition\n",
    "        logic\n",
    "        increment/decrement\n",
    "\n",
    "NOTE: i++, i--, --i, ++i (unary operations) are not supported in python"
   ]
  },
  {
   "cell_type": "code",
   "execution_count": 10,
   "metadata": {},
   "outputs": [
    {
     "name": "stdout",
     "output_type": "stream",
     "text": [
      "1 2 3 4 5 6 7 8 9 10 "
     ]
    }
   ],
   "source": [
    "### incrementing loop with increment first\n",
    "\n",
    "i = 0                  # initialization\n",
    "while i < 10:            # condition\n",
    "    i += 1              # increment/decrement\n",
    "    print(i, end=\" \")"
   ]
  },
  {
   "cell_type": "code",
   "execution_count": 12,
   "metadata": {},
   "outputs": [
    {
     "name": "stdout",
     "output_type": "stream",
     "text": [
      "0 1 2 3 4 5 6 7 8 9 10 "
     ]
    }
   ],
   "source": [
    "### incrementing loop with increment last\n",
    "\n",
    "i = 0                   # initialization\n",
    "while i < 11:            # condition - less than\n",
    "    print(i, end=\" \")   # logic\n",
    "    i += 1              # increment/decrement"
   ]
  },
  {
   "cell_type": "code",
   "execution_count": 13,
   "metadata": {},
   "outputs": [
    {
     "name": "stdout",
     "output_type": "stream",
     "text": [
      "0 1 2 3 4 5 "
     ]
    }
   ],
   "source": [
    "i = 0                   # initialization\n",
    "while i <= 5:           # condition - less than or equal\n",
    "    print(i, end=\" \")   # logic\n",
    "    i += 1              # increment/decrement"
   ]
  },
  {
   "cell_type": "code",
   "execution_count": 22,
   "metadata": {},
   "outputs": [
    {
     "name": "stdout",
     "output_type": "stream",
     "text": [
      "4 3 2 1 "
     ]
    }
   ],
   "source": [
    "## decrementing loop with decrement first\n",
    "i = 5                 # initialization\n",
    "while i > 1:            # condition - greater than\n",
    "    i -= 1              # decrement\n",
    "    print(i, end=\" \")"
   ]
  },
  {
   "cell_type": "code",
   "execution_count": null,
   "metadata": {},
   "outputs": [],
   "source": []
  },
  {
   "cell_type": "code",
   "execution_count": null,
   "metadata": {},
   "outputs": [],
   "source": []
  }
 ],
 "metadata": {
  "kernelspec": {
   "display_name": "Python 3",
   "language": "python",
   "name": "python3"
  },
  "language_info": {
   "codemirror_mode": {
    "name": "ipython",
    "version": 3
   },
   "file_extension": ".py",
   "mimetype": "text/x-python",
   "name": "python",
   "nbconvert_exporter": "python",
   "pygments_lexer": "ipython3",
   "version": "3.12.1"
  }
 },
 "nbformat": 4,
 "nbformat_minor": 2
}
