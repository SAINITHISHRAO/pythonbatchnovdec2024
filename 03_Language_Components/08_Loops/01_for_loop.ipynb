{
 "cells": [
  {
   "cell_type": "raw",
   "metadata": {},
   "source": [
    "for loop\n",
    "Two types of for loops in any language:\n",
    "    1. for (int a = 0; a < 10 ; a ++)       ==> This is NOT VALID in python\n",
    "    2. for a in range(0, 10, 1)             ==> This is the only valid for loop in python\n",
    "\n",
    "NOTE: for loop can be applied only on ITERABLE OBJECT\n",
    "    non-iterable objects - int, float, None, bool(True/False)\n",
    "    iterable objects     - string, range, list, tuple, set, dictionary, iterators, generators"
   ]
  },
  {
   "cell_type": "code",
   "execution_count": 1,
   "metadata": {},
   "outputs": [
    {
     "name": "stdout",
     "output_type": "stream",
     "text": [
      "N, i, t, h, i, s, h, \n"
     ]
    }
   ],
   "source": [
    "for i in \"Nithish\":\n",
    "    print(i, end=\", \")\n",
    "print()"
   ]
  },
  {
   "cell_type": "code",
   "execution_count": 2,
   "metadata": {},
   "outputs": [
    {
     "name": "stdout",
     "output_type": "stream",
     "text": [
      "0 N\n",
      "1 i\n",
      "2 t\n",
      "3 h\n",
      "4 i\n",
      "5 s\n",
      "6 h\n"
     ]
    }
   ],
   "source": [
    "loop_count = 0\n",
    "for each_chr in \"Nithish\":\n",
    "    print(loop_count, each_chr)\n",
    "    loop_count += 1"
   ]
  },
  {
   "cell_type": "code",
   "execution_count": 3,
   "metadata": {},
   "outputs": [
    {
     "name": "stdout",
     "output_type": "stream",
     "text": [
      "N\n",
      "i\n",
      "t\n",
      "h\n",
      "i\n",
      "s\n",
      "h\n",
      "(0, 'N') <class 'tuple'>\n",
      "(1, 'i') <class 'tuple'>\n",
      "(2, 't') <class 'tuple'>\n",
      "(3, 'h') <class 'tuple'>\n",
      "(4, 'i') <class 'tuple'>\n",
      "(5, 's') <class 'tuple'>\n",
      "(6, 'h') <class 'tuple'>\n"
     ]
    }
   ],
   "source": [
    "# enumerate() - builtin function to get the loop index\n",
    "for each_chr in \"Nithish\":\n",
    "    print(each_chr)\n",
    "\n",
    "for each_pair in enumerate(\"Nithish\"):\n",
    "    print(each_pair, type(each_pair))"
   ]
  },
  {
   "cell_type": "code",
   "execution_count": 5,
   "metadata": {},
   "outputs": [
    {
     "name": "stdout",
     "output_type": "stream",
     "text": [
      "\n",
      "    type(num1) = <class 'tuple'> num1 = (11, 22)\n",
      "    type(num2) = <class 'int'> num2 = 56\n",
      "    type(num3) = <class 'int'> num3 = 94\n",
      "\n"
     ]
    }
   ],
   "source": [
    "# unpacking\n",
    "num1 = 11, 22  # Asignment operation\n",
    "num2, num3 = 56, 94  # UNpacking\n",
    "\n",
    "print(\n",
    "    f\"\"\"\n",
    "    {type(num1) = } {num1 = }\n",
    "    {type(num2) = } {num2 = }\n",
    "    {type(num3) = } {num3 = }\n",
    "\"\"\"\n",
    ")"
   ]
  },
  {
   "cell_type": "code",
   "execution_count": 8,
   "metadata": {},
   "outputs": [
    {
     "name": "stdout",
     "output_type": "stream",
     "text": [
      "(0, 'N') <class 'tuple'>\n",
      "(1, 'i') <class 'tuple'>\n",
      "(2, 't') <class 'tuple'>\n",
      "(3, 'h') <class 'tuple'>\n",
      "(4, 'i') <class 'tuple'>\n",
      "(5, 's') <class 'tuple'>\n",
      "(6, 'h') <class 'tuple'>\n"
     ]
    }
   ],
   "source": [
    "for each_pair in enumerate(\"Nithish\"):\n",
    "    print(each_pair, type(each_pair))"
   ]
  },
  {
   "cell_type": "code",
   "execution_count": 9,
   "metadata": {},
   "outputs": [
    {
     "name": "stdout",
     "output_type": "stream",
     "text": [
      "At position 0, character is N\n",
      "At position 1, character is i\n",
      "At position 2, character is t\n",
      "At position 3, character is h\n",
      "At position 4, character is i\n",
      "At position 5, character is s\n",
      "At position 6, character is h\n"
     ]
    }
   ],
   "source": [
    "for loop_index, each_chr in enumerate(\"Nithish\"):\n",
    "    # print(loop_index, each_chr)\n",
    "    print(f\"At position {loop_index}, character is {each_chr}\")"
   ]
  },
  {
   "cell_type": "code",
   "execution_count": 10,
   "metadata": {},
   "outputs": [
    {
     "name": "stdout",
     "output_type": "stream",
     "text": [
      "2, 3, 4, 5, 6, 7, 8, 9, "
     ]
    }
   ],
   "source": [
    "for e in [2,3,4,5,6,7,8,9]:\n",
    "    print(e, end=\", \")"
   ]
  },
  {
   "cell_type": "code",
   "execution_count": 12,
   "metadata": {},
   "outputs": [
    {
     "name": "stdout",
     "output_type": "stream",
     "text": [
      "0 ==='''''....> 2\n",
      "1 ==='''''....> 3\n",
      "2 ==='''''....> 4\n",
      "3 ==='''''....> 5\n",
      "4 ==='''''....> 6\n",
      "5 ==='''''....> 7\n",
      "6 ==='''''....> 8\n",
      "7 ==='''''....> 9\n"
     ]
    }
   ],
   "source": [
    "for e in enumerate([2,3,4,5,6,7,8,9]):\n",
    "    print(f\"{e[0]} ==='''''....> {e[1]}\")"
   ]
  },
  {
   "cell_type": "code",
   "execution_count": 13,
   "metadata": {},
   "outputs": [
    {
     "name": "stdout",
     "output_type": "stream",
     "text": [
      "-11 ==='''''....> 2\n",
      "-10 ==='''''....> 3\n",
      "-9 ==='''''....> 4\n",
      "-8 ==='''''....> 5\n",
      "-7 ==='''''....> 6\n",
      "-6 ==='''''....> 7\n",
      "-5 ==='''''....> 8\n",
      "-4 ==='''''....> 9\n"
     ]
    }
   ],
   "source": [
    "for e in enumerate([2,3,4,5,6,7,8,9], - 11):\n",
    "    print(f\"{e[0]} ==='''''....> {e[1]}\")"
   ]
  },
  {
   "cell_type": "code",
   "execution_count": 16,
   "metadata": {},
   "outputs": [
    {
     "name": "stdout",
     "output_type": "stream",
     "text": [
      "Using for loop on range():\n",
      "Number: 8\n",
      "Number: 9\n",
      "Number: 10\n"
     ]
    }
   ],
   "source": [
    "#Assignment: perform for loop & Enumeration on range() object\n",
    "#loop\n",
    "print(\"Using for loop on range():\")\n",
    "for num in range(8, 11):  # Range from 8 to 10\n",
    "    print(f\"Number: {num}\")"
   ]
  },
  {
   "cell_type": "code",
   "execution_count": 18,
   "metadata": {},
   "outputs": [
    {
     "name": "stdout",
     "output_type": "stream",
     "text": [
      "Using enumerate on range():\n",
      "Index 0 ===> Number 8\n",
      "Index 1 ===> Number 9\n",
      "Index 2 ===> Number 10\n"
     ]
    }
   ],
   "source": [
    "#Enumeration\n",
    "print(\"Using enumerate on range():\")\n",
    "for index, num in enumerate(range(8, 11)):  # Enumerate with default starting index (0)\n",
    "    print(f\"Index {index} ===> Number {num}\")"
   ]
  },
  {
   "cell_type": "code",
   "execution_count": null,
   "metadata": {},
   "outputs": [],
   "source": []
  }
 ],
 "metadata": {
  "kernelspec": {
   "display_name": "Python 3",
   "language": "python",
   "name": "python3"
  },
  "language_info": {
   "codemirror_mode": {
    "name": "ipython",
    "version": 3
   },
   "file_extension": ".py",
   "mimetype": "text/x-python",
   "name": "python",
   "nbconvert_exporter": "python",
   "pygments_lexer": "ipython3",
   "version": "3.12.1"
  }
 },
 "nbformat": 4,
 "nbformat_minor": 2
}
