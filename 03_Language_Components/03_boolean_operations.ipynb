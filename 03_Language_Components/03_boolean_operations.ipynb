{
 "cells": [
  {
   "cell_type": "markdown",
   "metadata": {},
   "source": [
    "Boolean Operations\n",
    "True, False  --> keywords defined in python"
   ]
  },
  {
   "cell_type": "code",
   "execution_count": 9,
   "metadata": {},
   "outputs": [
    {
     "name": "stdout",
     "output_type": "stream",
     "text": [
      "a = False <class 'bool'>\n"
     ]
    }
   ],
   "source": [
    "a = False\n",
    "print(\"a =\", a, type(a))"
   ]
  },
  {
   "cell_type": "code",
   "execution_count": 15,
   "metadata": {},
   "outputs": [
    {
     "name": "stdout",
     "output_type": "stream",
     "text": [
      "True      =  True\n",
      "True * 30 =  5\n",
      "True * 1.6 = 1.6\n",
      "True == 1   True\n",
      "True == 3   False\n",
      "True != 3   True\n"
     ]
    }
   ],
   "source": [
    "print(\"True      = \",True)\n",
    "print(\"True * 30 = \",True * 5)\n",
    "print(\"True * 1.6 =\",True * 1.6)  \n",
    "# True has a value of one\n",
    "print(\"True == 1  \", True == 1)\n",
    "print(\"True == 3  \", True == 3)\n",
    "print(\"True != 3  \", True != 3)"
   ]
  },
  {
   "cell_type": "code",
   "execution_count": 16,
   "metadata": {},
   "outputs": [
    {
     "name": "stdout",
     "output_type": "stream",
     "text": [
      "False     =  False\n",
      "False * 5 =  0\n",
      "False == 0  True\n",
      "False == 3  False\n",
      "False != 3  True\n"
     ]
    }
   ],
   "source": [
    "print(\"False     = \", False)\n",
    "print(\"False * 5 = \", False * 5)  \n",
    "# False has a value of zero\n",
    "print(\"False == 0 \", False == 0)\n",
    "print(\"False == 3 \", False == 3)\n",
    "print(\"False != 3 \", False != 3)"
   ]
  },
  {
   "cell_type": "markdown",
   "metadata": {},
   "source": [
    "bool() built-in function\n",
    "Number  - int & float\n",
    "Strings\n",
    "None\n",
    "boolean\n",
    "braces"
   ]
  },
  {
   "cell_type": "code",
   "execution_count": 17,
   "metadata": {},
   "outputs": [
    {
     "name": "stdout",
     "output_type": "stream",
     "text": [
      "bool(12)           True\n",
      "bool(-12)          True\n",
      "bool(0)            False\n",
      "\n",
      "bool(0.00000000)   False\n",
      "bool(0.000000001)  True\n",
      "bool(-0.000000001) True\n"
     ]
    }
   ],
   "source": [
    "# bool()\n",
    "# integer type (int and float)\n",
    "#       zero     - False\n",
    "#       non-zero - True\n",
    "print(\"bool(12)          \", bool(12))\n",
    "print(\"bool(-12)         \", bool(-12))\n",
    "print(\"bool(0)           \", bool(0))\n",
    "print()\n",
    "\n",
    "print(\"bool(0.00000000)  \", bool(0.00000000))\n",
    "print(\"bool(0.000000001) \", bool(0.000000001))\n",
    "print(\"bool(-0.000000001)\", bool(-0.000000001))"
   ]
  },
  {
   "cell_type": "code",
   "execution_count": 18,
   "metadata": {},
   "outputs": [
    {
     "name": "stdout",
     "output_type": "stream",
     "text": [
      "bool('ball')      True\n",
      "bool(' ')         True\n",
      "bool('')          False\n"
     ]
    }
   ],
   "source": [
    "# strings\n",
    "#  True - non-empty string\n",
    "#  False - empty string\n",
    "print(\"bool('ball')     \", bool(\"ball\"))\n",
    "print(\"bool(' ')        \", bool(\" \"))  # white-space\n",
    "print(\"bool('')         \", bool(\"\"))  # empty string"
   ]
  },
  {
   "cell_type": "code",
   "execution_count": 19,
   "metadata": {},
   "outputs": [
    {
     "name": "stdout",
     "output_type": "stream",
     "text": [
      "bool(name)       =  True\n",
      "bool(name != '') =  True\n"
     ]
    }
   ],
   "source": [
    "name = \"Nithish\"\n",
    "print(\"bool(name)       = \", bool(name))\n",
    "print(\"bool(name != '') = \", bool(name != \"\"))"
   ]
  },
  {
   "cell_type": "code",
   "execution_count": null,
   "metadata": {},
   "outputs": [],
   "source": []
  }
 ],
 "metadata": {
  "kernelspec": {
   "display_name": "Python 3",
   "language": "python",
   "name": "python3"
  },
  "language_info": {
   "codemirror_mode": {
    "name": "ipython",
    "version": 3
   },
   "file_extension": ".py",
   "mimetype": "text/x-python",
   "name": "python",
   "nbconvert_exporter": "python",
   "pygments_lexer": "ipython3",
   "version": "3.12.1"
  }
 },
 "nbformat": 4,
 "nbformat_minor": 2
}
