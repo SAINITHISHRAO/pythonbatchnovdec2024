{
 "cells": [
  {
   "cell_type": "markdown",
   "metadata": {},
   "source": [
    "Purpose: Logical Operations\n",
    "    - Will result in a boolean value (True or False)\n",
    "\n",
    "    and - if  all are True, result is True\n",
    "    or  - if any one of them is True, result is True\n",
    "    not - negate the existing value"
   ]
  },
  {
   "cell_type": "code",
   "execution_count": 3,
   "metadata": {},
   "outputs": [
    {
     "name": "stdout",
     "output_type": "stream",
     "text": [
      "True and True   True\n",
      "True and False  False\n",
      "False and True   False\n",
      "False and False  False\n"
     ]
    }
   ],
   "source": [
    "print(\"True and True  \", True and True)  # True\n",
    "print(\"True and False \", True and False)\n",
    "print(\"False and True  \", False and True)\n",
    "print(\"False and False \", False and False)"
   ]
  },
  {
   "cell_type": "code",
   "execution_count": 4,
   "metadata": {},
   "outputs": [
    {
     "name": "stdout",
     "output_type": "stream",
     "text": [
      "\n",
      " or operation \n",
      "True or True   True\n",
      "True or False  True\n",
      "False or True   True\n",
      "False or False  False\n"
     ]
    }
   ],
   "source": [
    "print(\"\\n or operation \")\n",
    "print(\"True or True  \", True or True)\n",
    "print(\"True or False \", True or False)\n",
    "print(\"False or True  \", False or True)\n",
    "print(\"False or False \", False or False)  "
   ]
  },
  {
   "cell_type": "code",
   "execution_count": 5,
   "metadata": {},
   "outputs": [
    {
     "name": "stdout",
     "output_type": "stream",
     "text": [
      "\n",
      " not operation \n",
      "not True  False\n",
      "not False True\n",
      "not not True =  True\n",
      "not not False =  False\n",
      "\n"
     ]
    }
   ],
   "source": [
    "print(\"\\n not operation \")\n",
    "print(\"not True \", not True)\n",
    "print(\"not False\", not False)\n",
    "print(\"not not True = \", not not True)\n",
    "print(\"not not False = \", not not False)\n",
    "print()"
   ]
  },
  {
   "cell_type": "code",
   "execution_count": 7,
   "metadata": {},
   "outputs": [
    {
     "name": "stdout",
     "output_type": "stream",
     "text": [
      "not not not not not not not not not not not not True is True\n"
     ]
    }
   ],
   "source": [
    "print(\n",
    "    \"not not not not not not not not not not not not True is\",\n",
    "    not not not not not not not not not not not not True,\n",
    ")"
   ]
  },
  {
   "cell_type": "markdown",
   "metadata": {},
   "source": [
    "Purpose: Logical Operations\n",
    "    Chaining Comparsion(Relational) Operators"
   ]
  },
  {
   "cell_type": "code",
   "execution_count": 8,
   "metadata": {},
   "outputs": [
    {
     "name": "stdout",
     "output_type": "stream",
     "text": [
      "4 <8 <6 False\n",
      "6 <7 <8 True\n"
     ]
    }
   ],
   "source": [
    "print(\"4 <8 <6\", 4 < 8 < 6)\n",
    "print(\"6 <7 <8\", 6 < 7 < 8)"
   ]
  },
  {
   "cell_type": "code",
   "execution_count": 12,
   "metadata": {},
   "outputs": [
    {
     "name": "stdout",
     "output_type": "stream",
     "text": [
      "True\n",
      "False\n"
     ]
    }
   ],
   "source": [
    "print(11 == 11 == 11) \n",
    "print(11 != 12 == 13) "
   ]
  },
  {
   "cell_type": "code",
   "execution_count": 15,
   "metadata": {},
   "outputs": [
    {
     "name": "stdout",
     "output_type": "stream",
     "text": [
      "a= 0\n",
      "b= 9\n",
      "b= 13\n",
      "b= 9\n",
      "\n"
     ]
    }
   ],
   "source": [
    "a = 0 and 1  # 0\n",
    "print(\"a=\", a)\n",
    "\n",
    "b = 3 and 9  # 9\n",
    "print(\"b=\", b)\n",
    "\n",
    "b = 3 and 9 and 13  # 13\n",
    "print(\"b=\", b)\n",
    "\n",
    "b = 3 and 13 and 9  # 9\n",
    "print(\"b=\", b)  \n",
    "# If all non-zeros, results last element\n",
    "print()\n",
    "\n"
   ]
  },
  {
   "cell_type": "code",
   "execution_count": 17,
   "metadata": {},
   "outputs": [
    {
     "name": "stdout",
     "output_type": "stream",
     "text": [
      "c= 1\n",
      "d= 3\n",
      "e= 3\n",
      "e= 13\n",
      "e= 9\n"
     ]
    }
   ],
   "source": [
    "c = 0 or 1  # 1\n",
    "print(\"c=\", c)\n",
    "\n",
    "d = 3 or 9  # 3\n",
    "print(\"d=\", d)\n",
    "\n",
    "e = 3 or 9 or 13  # 3\n",
    "print(\"e=\", e)\n",
    "\n",
    "e = 13 or 9 or 3  # 13\n",
    "print(\"e=\", e)  \n",
    "# or is resulting first element\n",
    "\n",
    "e = 0 or 0 or 9 or 3  # 9\n",
    "print(\"e=\", e)  \n",
    "# first non-zero value\n"
   ]
  },
  {
   "cell_type": "code",
   "execution_count": 21,
   "metadata": {},
   "outputs": [
    {
     "data": {
      "text/plain": [
       "False"
      ]
     },
     "execution_count": 21,
     "metadata": {},
     "output_type": "execute_result"
    }
   ],
   "source": [
    "num1 = 4554\n",
    "\n",
    "num1 > 0 and num1 <= 0 and num1 != 0"
   ]
  },
  {
   "cell_type": "code",
   "execution_count": null,
   "metadata": {},
   "outputs": [],
   "source": []
  }
 ],
 "metadata": {
  "kernelspec": {
   "display_name": "Python 3",
   "language": "python",
   "name": "python3"
  },
  "language_info": {
   "codemirror_mode": {
    "name": "ipython",
    "version": 3
   },
   "file_extension": ".py",
   "mimetype": "text/x-python",
   "name": "python",
   "nbconvert_exporter": "python",
   "pygments_lexer": "ipython3",
   "version": "3.12.1"
  }
 },
 "nbformat": 4,
 "nbformat_minor": 2
}
