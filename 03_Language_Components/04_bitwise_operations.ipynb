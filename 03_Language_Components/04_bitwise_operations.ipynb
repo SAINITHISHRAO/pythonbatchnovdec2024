{
 "cells": [
  {
   "cell_type": "markdown",
   "metadata": {},
   "source": [
    "Bitwise Operations\n",
    "&   binary AND    -> If all are 1, result is 1\n",
    "|   binary OR     -> If all are 0, only then result is 0\n",
    "^   binary XOR    -> If total count of 1's are odd, it results in 1, else 0\n",
    "~   binary 1's complement\n",
    "<<  binary Left Shift \n",
    ">>  binary right shift\n",
    "\n",
    "     126 64 32 16  8 4  2  1\n",
    "60 -   0  0  1  1  1 1  0  0\n",
    "13 -   0  0  0  0  1 1  0  1\n",
    "----------------------------\n",
    "&  -   0  0  0  0  1 1  0  0 = (8 * 1 + 4 * 1) = 12\n",
    "|  -   0  0  1  1  1 1  0  1 = (32 + 16 + 8 + 4 + 1) = 61\n",
    "^  -   0  0  1  1  0 0  0  1 = (32 + 16 + 1) = 49"
   ]
  },
  {
   "cell_type": "code",
   "execution_count": 1,
   "metadata": {},
   "outputs": [
    {
     "name": "stdout",
     "output_type": "stream",
     "text": [
      "num1= 60 0b111100\n",
      "num2= 13 0b1101\n"
     ]
    }
   ],
   "source": [
    "num1 = 60\n",
    "num2 = 13\n",
    "\n",
    "print(\"num1=\", num1, bin(num1))  # 0b111100\n",
    "print(\"num2=\", num2, bin(num2))"
   ]
  },
  {
   "cell_type": "code",
   "execution_count": 5,
   "metadata": {},
   "outputs": [
    {
     "name": "stdout",
     "output_type": "stream",
     "text": [
      "12\n"
     ]
    }
   ],
   "source": [
    "num3 = num1 & num2 \n",
    "print(num3)\n",
    "#num1:   0011 1100\n",
    "#num2:   0000 1101\n",
    "#Result: 0000 1100  (This is 12 in decimal)"
   ]
  },
  {
   "cell_type": "code",
   "execution_count": 6,
   "metadata": {},
   "outputs": [
    {
     "name": "stdout",
     "output_type": "stream",
     "text": [
      "Line 1 - Value of num3 is  12\n"
     ]
    }
   ],
   "source": [
    "num3 = num1 & num2  # 12 = 0000 1100\n",
    "print(\"Line 1 - Value of num3 is \", num3)"
   ]
  },
  {
   "cell_type": "code",
   "execution_count": 7,
   "metadata": {},
   "outputs": [
    {
     "name": "stdout",
     "output_type": "stream",
     "text": [
      "Line 2 - Value of num3 is  61\n"
     ]
    }
   ],
   "source": [
    "num3 = num1 | num2  # 61 = 0011 1101\n",
    "print(\"Line 2 - Value of num3 is \", num3)"
   ]
  },
  {
   "cell_type": "code",
   "execution_count": 10,
   "metadata": {},
   "outputs": [
    {
     "name": "stdout",
     "output_type": "stream",
     "text": [
      "Line 4 - Value of num3 is  -61\n"
     ]
    }
   ],
   "source": [
    "# Assignment\n",
    "num1 = 60  # Binary: 0011 1100\n",
    "num3 = ~num1  # Bitwise NOT operation\n",
    "print(\"Line 4 - Value of num3 is \", num3)"
   ]
  },
  {
   "cell_type": "code",
   "execution_count": 11,
   "metadata": {},
   "outputs": [
    {
     "name": "stdout",
     "output_type": "stream",
     "text": [
      "Line 5 - Value of num3 is  240\n"
     ]
    }
   ],
   "source": [
    "num3 = num1 << 2  # 240 = 1111 0000\n",
    "print(\"Line 5 - Value of num3 is \", num3)"
   ]
  },
  {
   "cell_type": "markdown",
   "metadata": {},
   "source": [
    "Binary Representation of num1 (60):\n",
    "60 = 0011 1100\n",
    "\n",
    "Left Shift (<< 2): Shifting all bits of num1 two positions to the left:\n",
    "Right Shift (>> 2): Shifting all bits of num1 two positions to the right:\n",
    "    0011 1100 <<2 = 1111 0000\n",
    "The two leftmost bits are discarded.\n",
    "Two zero bits are added to the rightmost positions.\n",
    "\n",
    "The new binary value is:\n",
    "\n",
    "1111 0000 = 240"
   ]
  },
  {
   "cell_type": "markdown",
   "metadata": {},
   "source": [
    "NOTE:\n",
    "A left shift by n bits is equivalent to multiplication by pow(2, n) without overflow check.\n",
    "A right shift by n bits is equivalent to division by pow(2, n) without overflow check.\n",
    "\n",
    "Using pow(2, n) for Division:\n",
    "\n",
    "60÷2**2 = 60÷4=15 (integer division).\n",
    "Equivalent Right Shift:\n",
    "60>>2=15\n",
    "\n",
    "Result using division by pow(2, n): 15\n",
    "Result using right shift: 15"
   ]
  }
 ],
 "metadata": {
  "kernelspec": {
   "display_name": "Python 3",
   "language": "python",
   "name": "python3"
  },
  "language_info": {
   "codemirror_mode": {
    "name": "ipython",
    "version": 3
   },
   "file_extension": ".py",
   "mimetype": "text/x-python",
   "name": "python",
   "nbconvert_exporter": "python",
   "pygments_lexer": "ipython3",
   "version": "3.12.1"
  }
 },
 "nbformat": 4,
 "nbformat_minor": 2
}
