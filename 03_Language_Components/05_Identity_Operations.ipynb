{
 "cells": [
  {
   "cell_type": "raw",
   "metadata": {
    "vscode": {
     "languageId": "raw"
    }
   },
   "source": [
    "Identity Operations\n",
    "Object\n",
    "    - value(s)\n",
    "    - type(s)\n",
    "    - address location where it is stored - id()\n",
    "\n",
    "\n",
    "=  Assignment operator\n",
    "\n",
    "== Value-level Equivalence  -  ( value and type) check\n",
    "is object-level Equivalence - (address location, value and type) check"
   ]
  },
  {
   "cell_type": "code",
   "execution_count": 2,
   "metadata": {},
   "outputs": [
    {
     "data": {
      "text/plain": [
       "True"
      ]
     },
     "execution_count": 2,
     "metadata": {},
     "output_type": "execute_result"
    }
   ],
   "source": [
    "4 == 4"
   ]
  },
  {
   "cell_type": "code",
   "execution_count": 3,
   "metadata": {},
   "outputs": [
    {
     "data": {
      "text/plain": [
       "True"
      ]
     },
     "execution_count": 3,
     "metadata": {},
     "output_type": "execute_result"
    }
   ],
   "source": [
    "'4' == '4'"
   ]
  },
  {
   "cell_type": "code",
   "execution_count": 4,
   "metadata": {},
   "outputs": [
    {
     "data": {
      "text/plain": [
       "False"
      ]
     },
     "execution_count": 4,
     "metadata": {},
     "output_type": "execute_result"
    }
   ],
   "source": [
    "4 == '4'"
   ]
  },
  {
   "cell_type": "code",
   "execution_count": 5,
   "metadata": {},
   "outputs": [],
   "source": [
    "num1 = 100\n",
    "num2 = 200"
   ]
  },
  {
   "cell_type": "code",
   "execution_count": 6,
   "metadata": {},
   "outputs": [
    {
     "name": "stdout",
     "output_type": "stream",
     "text": [
      "num1 == num2 = False\n",
      "num1 is num2 = False\n",
      "id(num1) = 106094156276744 \t id(num2) =106094156279944\n"
     ]
    }
   ],
   "source": [
    "print(f\"{num1 == num2 = }\")\n",
    "print(f\"{num1 is num2 = }\")\n",
    "print(f\"{id(num1) = } \\t {id(num2) =}\")"
   ]
  },
  {
   "cell_type": "code",
   "execution_count": 9,
   "metadata": {},
   "outputs": [
    {
     "name": "stdout",
     "output_type": "stream",
     "text": [
      "num1 = 200\n",
      "num2 = 200\n",
      "num1 == num2 = True\n",
      "num1 is num2 = True\n",
      "id(num1) = 106094156279944 \t id(num2) =106094156279944\n"
     ]
    }
   ],
   "source": [
    "print(f\"{num1 = }\")\n",
    "print(f\"{num2 = }\")\n",
    "print(f\"{num1 == num2 = }\")\n",
    "print(f\"{num1 is num2 = }\")\n",
    "print(f\"{id(num1) = } \\t {id(num2) =}\")"
   ]
  },
  {
   "cell_type": "code",
   "execution_count": 10,
   "metadata": {},
   "outputs": [
    {
     "name": "stdout",
     "output_type": "stream",
     "text": [
      "num3 ='Sai' \t num4 ='Sai'\n",
      "num3 == num4 = True\n",
      "num3 is num4 = True\n",
      "id(num3) = 123496349729728 \t id(num4) =123496349729728\n"
     ]
    }
   ],
   "source": [
    "num3 = \"Sai\"\n",
    "num4 = \"Sai\"\n",
    "print(f\"{num3 =} \\t {num4 =}\")\n",
    "print(f\"{num3 == num4 = }\")\n",
    "print(f\"{num3 is num4 = }\")\n",
    "print(f\"{id(num3) = } \\t {id(num4) =}\")"
   ]
  },
  {
   "cell_type": "raw",
   "metadata": {
    "vscode": {
     "languageId": "raw"
    }
   },
   "source": [
    "Dual Memory management Strategy\n",
    "In Interactive mode,\n",
    "    For integer,\n",
    "        -5 to 256      -> no new object created\n",
    "        outside bounds -> new object is created for each variable\n",
    "Python preallocates small integers in a range of -5 to 256.\n",
    "This allocation happens during initialization and since we cannot update integers (immutability) \n",
    "these preallocated integers are singletons and are directly referenced instead of reallocating.\n",
    "This means every time we use/creates a small integer, python instead of reallocating just returns \n",
    "the reference of preallocated one."
   ]
  },
  {
   "cell_type": "code",
   "execution_count": 11,
   "metadata": {},
   "outputs": [],
   "source": [
    "num1 = 255\n",
    "num2 = 255"
   ]
  },
  {
   "cell_type": "code",
   "execution_count": 12,
   "metadata": {},
   "outputs": [
    {
     "data": {
      "text/plain": [
       "True"
      ]
     },
     "execution_count": 12,
     "metadata": {},
     "output_type": "execute_result"
    }
   ],
   "source": [
    "num1 is num2"
   ]
  },
  {
   "cell_type": "code",
   "execution_count": 13,
   "metadata": {},
   "outputs": [
    {
     "data": {
      "text/plain": [
       "(106094156281704, 106094156281704)"
      ]
     },
     "execution_count": 13,
     "metadata": {},
     "output_type": "execute_result"
    }
   ],
   "source": [
    "id(num1), id(num2)"
   ]
  },
  {
   "cell_type": "code",
   "execution_count": 14,
   "metadata": {},
   "outputs": [],
   "source": [
    "num1 = 256\n",
    "num2 = 256"
   ]
  },
  {
   "cell_type": "code",
   "execution_count": 15,
   "metadata": {},
   "outputs": [
    {
     "data": {
      "text/plain": [
       "True"
      ]
     },
     "execution_count": 15,
     "metadata": {},
     "output_type": "execute_result"
    }
   ],
   "source": [
    "num1 is num2"
   ]
  },
  {
   "cell_type": "code",
   "execution_count": 16,
   "metadata": {},
   "outputs": [
    {
     "data": {
      "text/plain": [
       "(106094156281736, 106094156281736)"
      ]
     },
     "execution_count": 16,
     "metadata": {},
     "output_type": "execute_result"
    }
   ],
   "source": [
    "id(num1), id(num2)"
   ]
  },
  {
   "cell_type": "code",
   "execution_count": 17,
   "metadata": {},
   "outputs": [],
   "source": [
    "num1 = 257\n",
    "num2 = 257"
   ]
  },
  {
   "cell_type": "code",
   "execution_count": 18,
   "metadata": {},
   "outputs": [
    {
     "data": {
      "text/plain": [
       "False"
      ]
     },
     "execution_count": 18,
     "metadata": {},
     "output_type": "execute_result"
    }
   ],
   "source": [
    "num1 is num2   # breakaway"
   ]
  },
  {
   "cell_type": "code",
   "execution_count": 19,
   "metadata": {},
   "outputs": [
    {
     "name": "stdout",
     "output_type": "stream",
     "text": [
      "True\n",
      "106094156273384 106094156273384\n"
     ]
    }
   ],
   "source": [
    "num1 = -5\n",
    "num2 = -5\n",
    "\n",
    "print(num1 is num2)\n",
    "print(id(num1), id(num2))"
   ]
  },
  {
   "cell_type": "code",
   "execution_count": 20,
   "metadata": {},
   "outputs": [
    {
     "name": "stdout",
     "output_type": "stream",
     "text": [
      "False\n",
      "123496350675408 123496350677264\n"
     ]
    }
   ],
   "source": [
    "num1 = -6\n",
    "num2 = -6\n",
    "\n",
    "print(num1 is num2)\n",
    "print(id(num1), id(num2))"
   ]
  }
 ],
 "metadata": {
  "kernelspec": {
   "display_name": "Python 3",
   "language": "python",
   "name": "python3"
  },
  "language_info": {
   "codemirror_mode": {
    "name": "ipython",
    "version": 3
   },
   "file_extension": ".py",
   "mimetype": "text/x-python",
   "name": "python",
   "nbconvert_exporter": "python",
   "pygments_lexer": "ipython3",
   "version": "3.12.1"
  }
 },
 "nbformat": 4,
 "nbformat_minor": 2
}
