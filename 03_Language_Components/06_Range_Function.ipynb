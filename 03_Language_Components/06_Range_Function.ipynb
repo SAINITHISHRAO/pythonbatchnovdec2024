{
 "cells": [
  {
   "cell_type": "markdown",
   "metadata": {
    "vscode": {
     "languageId": "raw"
    }
   },
   "source": [
    "range() function\n",
    "- built-in function\n",
    "- Used for sequence generation\n",
    "- SYNTAX\n",
    "    range(INITIAL_VALUE, FINAL_VALUE, STEP)\n",
    "- Defaults\n",
    "    INITIAL_VALUE = 0\n",
    "    STEP = +1\n",
    "- FINAL_VALUE is mandatory\n",
    "- To get the values,\n",
    "    - either convert to any iterable -list, tuple or set\n",
    "    - or, for loop over that object\n",
    "- Lazy Loading Object"
   ]
  },
  {
   "cell_type": "code",
   "execution_count": 3,
   "metadata": {},
   "outputs": [
    {
     "data": {
      "text/plain": [
       "range(0, 6)"
      ]
     },
     "execution_count": 3,
     "metadata": {},
     "output_type": "execute_result"
    }
   ],
   "source": [
    "range(6)"
   ]
  },
  {
   "cell_type": "code",
   "execution_count": 4,
   "metadata": {},
   "outputs": [
    {
     "name": "stdout",
     "output_type": "stream",
     "text": [
      "<class 'range'> range(0, 6)\n"
     ]
    }
   ],
   "source": [
    "values = range(0, 6)\n",
    "print(type(values), values)"
   ]
  },
  {
   "cell_type": "code",
   "execution_count": 7,
   "metadata": {},
   "outputs": [
    {
     "name": "stdout",
     "output_type": "stream",
     "text": [
      "0\n",
      "1\n",
      "2\n",
      "3\n",
      "4\n",
      "5\n"
     ]
    }
   ],
   "source": [
    "for each_ele in values:\n",
    "    print(each_ele)"
   ]
  },
  {
   "cell_type": "code",
   "execution_count": 8,
   "metadata": {},
   "outputs": [
    {
     "name": "stdout",
     "output_type": "stream",
     "text": [
      "list(values)  =[0, 1, 2, 3, 4, 5]\n",
      "tuple(values) =(0, 1, 2, 3, 4, 5)\n",
      "set(values)   ={0, 1, 2, 3, 4, 5}\n"
     ]
    }
   ],
   "source": [
    "print(f\"{list(values)  =}\")\n",
    "print(f\"{tuple(values) =}\")\n",
    "print(f\"{set(values)   =}\")"
   ]
  },
  {
   "cell_type": "code",
   "execution_count": 10,
   "metadata": {},
   "outputs": [
    {
     "name": "stdout",
     "output_type": "stream",
     "text": [
      "[0, 2, 4, 6, 8, 10]\n"
     ]
    }
   ],
   "source": [
    "values2 = range(0, 12, 2)\n",
    "print(list(values2))  #  means each step 2"
   ]
  },
  {
   "cell_type": "code",
   "execution_count": null,
   "metadata": {},
   "outputs": [],
   "source": []
  }
 ],
 "metadata": {
  "kernelspec": {
   "display_name": "Python 3",
   "language": "python",
   "name": "python3"
  },
  "language_info": {
   "codemirror_mode": {
    "name": "ipython",
    "version": 3
   },
   "file_extension": ".py",
   "mimetype": "text/x-python",
   "name": "python",
   "nbconvert_exporter": "python",
   "pygments_lexer": "ipython3",
   "version": "3.12.1"
  }
 },
 "nbformat": 4,
 "nbformat_minor": 2
}
