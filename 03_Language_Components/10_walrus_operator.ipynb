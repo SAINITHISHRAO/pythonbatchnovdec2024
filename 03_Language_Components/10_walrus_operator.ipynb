{
 "cells": [
  {
   "cell_type": "raw",
   "metadata": {
    "vscode": {
     "languageId": "raw"
    }
   },
   "source": [
    "Assignment Expression (OR) Walrus Operator\n",
    "In simple words, It will combine assignment + some expression"
   ]
  },
  {
   "cell_type": "code",
   "execution_count": 7,
   "metadata": {},
   "outputs": [
    {
     "name": "stdout",
     "output_type": "stream",
     "text": [
      "a is ODD\n"
     ]
    }
   ],
   "source": [
    "a = 3\n",
    "if a % 2:\n",
    "    print(\"a is ODD\")"
   ]
  },
  {
   "cell_type": "raw",
   "metadata": {
    "vscode": {
     "languageId": "raw"
    }
   },
   "source": [
    "syntax:\n",
    "variable := expression"
   ]
  },
  {
   "cell_type": "code",
   "execution_count": 6,
   "metadata": {},
   "outputs": [
    {
     "name": "stdout",
     "output_type": "stream",
     "text": [
      "a is ODD\n"
     ]
    }
   ],
   "source": [
    "if (a := 3) % 2:\n",
    "    print(\"a is ODD\")"
   ]
  },
  {
   "cell_type": "code",
   "execution_count": 9,
   "metadata": {},
   "outputs": [
    {
     "name": "stdout",
     "output_type": "stream",
     "text": [
      "a is ODD\n",
      "a is ODD\n"
     ]
    }
   ],
   "source": [
    "a = 3\n",
    "if a % 2:\n",
    "    print(\"a is ODD\")\n",
    "\n",
    "# by using walrus operator\n",
    "\n",
    "if (a := 3) % 2:\n",
    "    print(\"a is ODD\")    "
   ]
  },
  {
   "cell_type": "code",
   "execution_count": 11,
   "metadata": {},
   "outputs": [
    {
     "name": "stdout",
     "output_type": "stream",
     "text": [
      "Length of the string is: 13\n",
      "Length of the string is: 13\n"
     ]
    }
   ],
   "source": [
    "data = \"Hello, world!\"\n",
    "\n",
    "length = len(data)\n",
    "\n",
    "if length > 5:\n",
    "    print(f\"Length of the string is: {length}\")\n",
    "\n",
    "### using walrus operator\n",
    "\n",
    "data = \"Hello, world!\"\n",
    "\n",
    "if (length := len(data)) > 5:\n",
    "    print(f\"Length of the string is: {length}\")    "
   ]
  }
 ],
 "metadata": {
  "kernelspec": {
   "display_name": "Python 3",
   "language": "python",
   "name": "python3"
  },
  "language_info": {
   "codemirror_mode": {
    "name": "ipython",
    "version": 3
   },
   "file_extension": ".py",
   "mimetype": "text/x-python",
   "name": "python",
   "nbconvert_exporter": "python",
   "pygments_lexer": "ipython3",
   "version": "3.12.1"
  }
 },
 "nbformat": 4,
 "nbformat_minor": 2
}
