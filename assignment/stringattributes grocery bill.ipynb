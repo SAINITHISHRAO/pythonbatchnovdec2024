{
 "cells": [
  {
   "cell_type": "markdown",
   "metadata": {},
   "source": [
    "Purpose: Grocery Store\n",
    "\n",
    "    Item       cost\n",
    "    ------------------------\n",
    "    rice        10/kg\n",
    "    wheat       34/kg"
   ]
  },
  {
   "cell_type": "code",
   "execution_count": 72,
   "metadata": {},
   "outputs": [
    {
     "name": "stdout",
     "output_type": "stream",
     "text": [
      "           Grocery Store Ltd            \n",
      "             Hyd,Telangana              \n",
      "........................................\n",
      "CODE            ITEMS             PRICE\n",
      "0932             RICE               50\n",
      "0013            WHEAT               40\n",
      "0008             OIL               100\n",
      "0056            SUGAR               30\n",
      "----------------------------------------\n",
      "              TOTAL                220\n",
      "----------------------------------------\n",
      "...............Thank You................\n"
     ]
    }
   ],
   "source": [
    "print(\"Grocery Store Ltd\".center(40))\n",
    "print(\"Hyd,Telangana\".center(40))\n",
    "print(\"\".center(40,\".\"))\n",
    "print(\"CODE\",\"ITEMS\".center(28),\"PRICE\".rjust(0))\n",
    "print(\"932\".zfill(4),\"RICE\".center(28),\"50\".rjust(4))\n",
    "print(\"13\".zfill(4),\"WHEAT\".center(28),\"40\".rjust(4))\n",
    "print(\"8\".zfill(4),\"OIL\".center(28),\"100\".rjust(4))\n",
    "print(\"56\".zfill(4),\"SUGAR\".center(28),\"30\".rjust(4))\n",
    "print(\"\".center(40,\"-\"))\n",
    "print(\"TOTAL\".center(34),\"220\".rjust(0))\n",
    "print(\"\".center(40,\"-\"))\n",
    "print(\"Thank You\".center(40,\".\"))\n"
   ]
  }
 ],
 "metadata": {
  "kernelspec": {
   "display_name": "Python 3",
   "language": "python",
   "name": "python3"
  },
  "language_info": {
   "codemirror_mode": {
    "name": "ipython",
    "version": 3
   },
   "file_extension": ".py",
   "mimetype": "text/x-python",
   "name": "python",
   "nbconvert_exporter": "python",
   "pygments_lexer": "ipython3",
   "version": "3.12.1"
  }
 },
 "nbformat": 4,
 "nbformat_minor": 2
}
