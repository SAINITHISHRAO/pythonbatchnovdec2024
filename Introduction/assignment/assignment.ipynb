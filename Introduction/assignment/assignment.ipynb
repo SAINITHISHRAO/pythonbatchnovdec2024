{
 "cells": [
  {
   "cell_type": "code",
   "execution_count": 7,
   "metadata": {},
   "outputs": [
    {
     "name": "stdout",
     "output_type": "stream",
     "text": [
      "The sum of the digits in 9999 is 36\n"
     ]
    }
   ],
   "source": [
    "def sum_of_the_digits(number):\n",
    "    total = 0\n",
    "    while number > 0:\n",
    "        number, digit = divmod(number, 10)  \n",
    "        total += digit\n",
    "    return total\n",
    "\n",
    "num = int(input(\"Enter a number: \"))\n",
    "result = sum_of_the_digits(num)\n",
    "print(f\"The sum of the digits in {num} is {result}\")"
   ]
  },
  {
   "cell_type": "code",
   "execution_count": 8,
   "metadata": {},
   "outputs": [
    {
     "name": "stdout",
     "output_type": "stream",
     "text": [
      "The number of days completed is: 16.25\n"
     ]
    }
   ],
   "source": [
    "def days_completed(revolutions):\n",
    "    full_days = revolutions / 2  \n",
    "    return full_days\n",
    "\n",
    "revolutions = 32.5\n",
    "completed_days = days_completed(revolutions)\n",
    "print(f\"The number of days completed is: {completed_days}\")"
   ]
  }
 ],
 "metadata": {
  "kernelspec": {
   "display_name": "Python 3",
   "language": "python",
   "name": "python3"
  },
  "language_info": {
   "codemirror_mode": {
    "name": "ipython",
    "version": 3
   },
   "file_extension": ".py",
   "mimetype": "text/x-python",
   "name": "python",
   "nbconvert_exporter": "python",
   "pygments_lexer": "ipython3",
   "version": "3.12.1"
  }
 },
 "nbformat": 4,
 "nbformat_minor": 2
}
